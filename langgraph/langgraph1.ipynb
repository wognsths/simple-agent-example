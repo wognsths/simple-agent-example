{
 "cells": [
  {
   "cell_type": "markdown",
   "id": "757b1bae",
   "metadata": {},
   "source": [
    "### LangGraph 실습...을 하기 전에 State에 대해서 알아보기"
   ]
  },
  {
   "cell_type": "code",
   "execution_count": 2,
   "id": "ed085375",
   "metadata": {},
   "outputs": [],
   "source": [
    "from typing_extensions import TypedDict\n",
    "from langgraph.graph import StateGraph, START\n",
    "from datetime import datetime"
   ]
  },
  {
   "cell_type": "markdown",
   "id": "4b7f7bce",
   "metadata": {},
   "source": [
    "LangGraph는 상태(State)기반으로 워크플로우가 정의되니, State를 정의해야 합니다."
   ]
  },
  {
   "cell_type": "code",
   "execution_count": 30,
   "id": "a8801ec8",
   "metadata": {},
   "outputs": [],
   "source": [
    "# 상태 정의\n",
    "class State(TypedDict):\n",
    "    \"\"\"TypedDict 객체를 상속 받은 클래스\"\"\"\n",
    "    weather: str\n",
    "    result : str"
   ]
  },
  {
   "cell_type": "code",
   "execution_count": 31,
   "id": "7301f9b5",
   "metadata": {},
   "outputs": [],
   "source": [
    "builder = StateGraph(State)\n",
    "# builder.__dict__  ## 상태를 확인해봅시다"
   ]
  },
  {
   "cell_type": "code",
   "execution_count": 32,
   "id": "2340fff5",
   "metadata": {},
   "outputs": [],
   "source": [
    "# 노드 만들기\n",
    "def node_1(state: State):\n",
    "    now = datetime.now().strftime(\"%Y-%m-%d\")\n",
    "    weather = state[\"weather\"]\n",
    "    output = f\"Today is {now}, {weather} day\"\n",
    "    return {\"result\": output}"
   ]
  },
  {
   "cell_type": "code",
   "execution_count": 33,
   "id": "50d23d4d",
   "metadata": {},
   "outputs": [],
   "source": [
    "# 노드 추가하기\n",
    "builder.add_node(\n",
    "    \"node_1\", # 지정할 노드 이름\n",
    "     node_1   # 실제 노드 함수\n",
    ")\n",
    "# 노드를 추가했으니 연결하기\n",
    "builder.add_edge(START, \"node_1\")\n",
    "\n",
    "# 컴파일\n",
    "graph = builder.compile()\n",
    "# graph.__dict__ ## 확인해보기"
   ]
  },
  {
   "cell_type": "code",
   "execution_count": 34,
   "id": "37cb6e80",
   "metadata": {},
   "outputs": [
    {
     "name": "stdout",
     "output_type": "stream",
     "text": [
      "{'weather': 'Rainy', 'result': 'Today is 2025-08-05, Rainy day'}\n"
     ]
    }
   ],
   "source": [
    "result = graph.invoke({\"weather\": \"Rainy\"})\n",
    "print(result)"
   ]
  }
 ],
 "metadata": {
  "kernelspec": {
   "display_name": "langchain",
   "language": "python",
   "name": "python3"
  },
  "language_info": {
   "codemirror_mode": {
    "name": "ipython",
    "version": 3
   },
   "file_extension": ".py",
   "mimetype": "text/x-python",
   "name": "python",
   "nbconvert_exporter": "python",
   "pygments_lexer": "ipython3",
   "version": "3.12.0"
  }
 },
 "nbformat": 4,
 "nbformat_minor": 5
}
