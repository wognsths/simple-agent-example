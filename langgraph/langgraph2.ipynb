{
 "cells": [
  {
   "cell_type": "markdown",
   "id": "6d660df4",
   "metadata": {},
   "source": [
    "### 서브그래프 사용해보기\n",
    "왜 서브그래프가 필요한가? 복잡한 워크플로우를 모듈화를 통해 분리하거나, 재사용하는 그래프가 필요한 경우!"
   ]
  },
  {
   "cell_type": "code",
   "execution_count": 25,
   "id": "f99ca818",
   "metadata": {},
   "outputs": [],
   "source": [
    "from langgraph.graph import StateGraph, START, END\n",
    "from typing_extensions import TypedDict\n",
    "import random"
   ]
  },
  {
   "cell_type": "code",
   "execution_count": 26,
   "id": "d17d84c2",
   "metadata": {},
   "outputs": [],
   "source": [
    "# 상태 정의\n",
    "class State(TypedDict):\n",
    "    user_input: int\n",
    "    computer_choice: int\n",
    "    result: str"
   ]
  },
  {
   "cell_type": "code",
   "execution_count": 27,
   "id": "ccef1dc3",
   "metadata": {},
   "outputs": [],
   "source": [
    "builder_A = StateGraph(State)\n",
    "\n",
    "def nodeA(state: State) -> State:\n",
    "    return {\"result\": f\"You win! Your input ({state['user_input']}) >= Computer ({state['computer_choice']})\"}\n",
    "\n",
    "builder_A.add_node(\"nodeA\", nodeA)\n",
    "builder_A.add_edge(START, \"nodeA\")\n",
    "builder_A.add_edge(\"nodeA\", END)\n",
    "\n",
    "graphA = builder_A.compile()"
   ]
  },
  {
   "cell_type": "code",
   "execution_count": 28,
   "id": "733f83f4",
   "metadata": {},
   "outputs": [],
   "source": [
    "builder_B = StateGraph(State)\n",
    "\n",
    "def nodeB(state: State) -> State:\n",
    "    return {\"result\": f\"You lose... Your input ({state['user_input']}) < Computer ({state['computer_choice']})\"}\n",
    "\n",
    "builder_B.add_node(\"nodeB\", nodeB)\n",
    "builder_B.add_edge(START, \"nodeB\")\n",
    "builder_B.add_edge(\"nodeB\", END)\n",
    "graphB = builder_B.compile()"
   ]
  },
  {
   "cell_type": "code",
   "execution_count": 29,
   "id": "1c5a3501",
   "metadata": {},
   "outputs": [],
   "source": [
    "# 메인 그래프 만들기\n",
    "main_builder = StateGraph(State)\n",
    "\n",
    "def judge_input(state: State) -> str:\n",
    "    if state[\"user_input\"] >= state[\"computer_choice\"]:\n",
    "        return \"run_graph_a\"\n",
    "    else:\n",
    "        return \"run_graph_b\"\n",
    "    \n",
    "main_builder.add_node(\"run_graph_a\", graphA)\n",
    "main_builder.add_node(\"run_graph_b\", graphB)\n",
    "\n",
    "# Conditional routing from START\n",
    "main_builder.add_conditional_edges(\n",
    "    START,\n",
    "    judge_input,\n",
    "    {\n",
    "        \"run_graph_a\": \"run_graph_a\",\n",
    "        \"run_graph_b\": \"run_graph_b\"\n",
    "    }\n",
    ")\n",
    "\n",
    "main_builder.add_edge(\"run_graph_a\", END)\n",
    "main_builder.add_edge(\"run_graph_b\", END)\n",
    "\n",
    "graph = main_builder.compile()"
   ]
  },
  {
   "cell_type": "code",
   "execution_count": 30,
   "id": "b1674f8f",
   "metadata": {},
   "outputs": [
    {
     "name": "stdout",
     "output_type": "stream",
     "text": [
      "Final State: {'user_input': 5, 'computer_choice': 7, 'result': 'You lose... Your input (5) < Computer (7)'}\n"
     ]
    }
   ],
   "source": [
    "user = int(input(\"Enter a number (1~10): \"))\n",
    "computer = random.randint(1, 10)\n",
    "\n",
    "result = graph.invoke({\"user_input\": user, \"computer_choice\": computer})\n",
    "print(\"Final State:\", result)"
   ]
  }
 ],
 "metadata": {
  "kernelspec": {
   "display_name": "langchain",
   "language": "python",
   "name": "python3"
  },
  "language_info": {
   "codemirror_mode": {
    "name": "ipython",
    "version": 3
   },
   "file_extension": ".py",
   "mimetype": "text/x-python",
   "name": "python",
   "nbconvert_exporter": "python",
   "pygments_lexer": "ipython3",
   "version": "3.12.0"
  }
 },
 "nbformat": 4,
 "nbformat_minor": 5
}
